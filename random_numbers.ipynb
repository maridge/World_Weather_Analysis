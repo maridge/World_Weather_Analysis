{
 "cells": [
  {
   "cell_type": "code",
   "execution_count": 2,
   "id": "194bcf57",
   "metadata": {},
   "outputs": [],
   "source": [
    "# Implort the random module.\n",
    "import random"
   ]
  },
  {
   "cell_type": "code",
   "execution_count": 3,
   "id": "8e969a10",
   "metadata": {},
   "outputs": [
    {
     "data": {
      "text/plain": [
       "-29"
      ]
     },
     "execution_count": 3,
     "metadata": {},
     "output_type": "execute_result"
    }
   ],
   "source": [
    "random.randint(-90, 90)"
   ]
  },
  {
   "cell_type": "code",
   "execution_count": 4,
   "id": "104f55a4",
   "metadata": {},
   "outputs": [
    {
     "data": {
      "text/plain": [
       "0.08970991524294492"
      ]
     },
     "execution_count": 4,
     "metadata": {},
     "output_type": "execute_result"
    }
   ],
   "source": [
    "random.random()"
   ]
  },
  {
   "cell_type": "code",
   "execution_count": 7,
   "id": "97022582",
   "metadata": {},
   "outputs": [
    {
     "data": {
      "text/plain": [
       "25.762108709981263"
      ]
     },
     "execution_count": 7,
     "metadata": {},
     "output_type": "execute_result"
    }
   ],
   "source": [
    "random_number = random.randint(-90, 89) + random.random()\n",
    "random_number"
   ]
  },
  {
   "cell_type": "code",
   "execution_count": 10,
   "id": "bc9ff719",
   "metadata": {},
   "outputs": [],
   "source": [
    "x = 1\n",
    "latitudes = []\n",
    "while x < 11:\n",
    "    random_lat = random.randint(-90, 89) + random.random()\n",
    "    latitudes.append(random_lat)\n",
    "    x += 1"
   ]
  },
  {
   "cell_type": "code",
   "execution_count": 11,
   "id": "4468b7a2",
   "metadata": {},
   "outputs": [
    {
     "data": {
      "text/plain": [
       "[-58.82076176943533,\n",
       " -26.13516171098099,\n",
       " 3.3189130171219574,\n",
       " 58.49668758401646,\n",
       " 41.82093487568367,\n",
       " -22.140869063066635,\n",
       " 10.752669933699199,\n",
       " 51.91258893248895,\n",
       " -12.709920775286768,\n",
       " 36.46328924588149]"
      ]
     },
     "execution_count": 11,
     "metadata": {},
     "output_type": "execute_result"
    }
   ],
   "source": [
    "latitudes"
   ]
  },
  {
   "cell_type": "code",
   "execution_count": 12,
   "id": "c27a7dcf",
   "metadata": {},
   "outputs": [
    {
     "data": {
      "text/plain": [
       "-48"
      ]
     },
     "execution_count": 12,
     "metadata": {},
     "output_type": "execute_result"
    }
   ],
   "source": [
    "random.randrange(-90, 90, step = 1)"
   ]
  },
  {
   "cell_type": "code",
   "execution_count": 14,
   "id": "1040a6f5",
   "metadata": {},
   "outputs": [
    {
     "data": {
      "text/plain": [
       "69"
      ]
     },
     "execution_count": 14,
     "metadata": {},
     "output_type": "execute_result"
    }
   ],
   "source": [
    "random.randrange(-0, 90, step = 3)"
   ]
  },
  {
   "cell_type": "code",
   "execution_count": 15,
   "id": "bf8a5dbd",
   "metadata": {},
   "outputs": [
    {
     "data": {
      "text/plain": [
       "-14.67658519959582"
      ]
     },
     "execution_count": 15,
     "metadata": {},
     "output_type": "execute_result"
    }
   ],
   "source": [
    "random.uniform(-90, 90)"
   ]
  },
  {
   "cell_type": "code",
   "execution_count": 16,
   "id": "eb98d4d2",
   "metadata": {},
   "outputs": [],
   "source": [
    "# import the numpy module.\n",
    "import numpy as np"
   ]
  },
  {
   "cell_type": "code",
   "execution_count": 17,
   "id": "429f3f69",
   "metadata": {},
   "outputs": [
    {
     "data": {
      "text/plain": [
       "-3.4465973639395884"
      ]
     },
     "execution_count": 17,
     "metadata": {},
     "output_type": "execute_result"
    }
   ],
   "source": [
    "np.random.uniform(-90.000, 90.000)"
   ]
  },
  {
   "cell_type": "code",
   "execution_count": 18,
   "id": "f57803ae",
   "metadata": {},
   "outputs": [
    {
     "data": {
      "text/plain": [
       "array([ 17.81665112,  84.84884003, -50.02854167,  11.96263413,\n",
       "        76.53322296, -33.97266716, -49.3368747 ,  78.20008881,\n",
       "        33.56526363,  47.27523866,  -6.42821362, -87.11846576,\n",
       "        59.64914799, -70.18542144, -15.41884422,  77.48637414,\n",
       "        74.58993396, -61.36346279,   3.04556684, -17.72243193,\n",
       "       -61.12727502, -35.56218028,  12.48285573, -89.94024508,\n",
       "        -0.88567148, -77.25362376, -80.94636669, -55.87344754,\n",
       "       -76.16148817,   8.84331428, -47.52844705, -71.25247513,\n",
       "        37.58870447, -33.55711358, -11.62403433,  32.00395671,\n",
       "        78.55600993,  40.54941074, -83.38268166,  60.28942339,\n",
       "       -34.54144255, -82.76422042,  23.4160036 ,  48.57382891,\n",
       "        36.02244268, -45.28795233,  21.10906127, -62.84639146,\n",
       "       -14.01733815, -41.39132048])"
      ]
     },
     "execution_count": 18,
     "metadata": {},
     "output_type": "execute_result"
    }
   ],
   "source": [
    "np.random.uniform(-90.000, 90.000, size=50)"
   ]
  },
  {
   "cell_type": "code",
   "execution_count": 19,
   "id": "d2c782f4",
   "metadata": {},
   "outputs": [],
   "source": [
    "# import timeit module\n",
    "import timeit"
   ]
  },
  {
   "cell_type": "code",
   "execution_count": 20,
   "id": "7ce23652",
   "metadata": {},
   "outputs": [
    {
     "name": "stdout",
     "output_type": "stream",
     "text": [
      "18 µs ± 543 ns per loop (mean ± std. dev. of 7 runs, 100000 loops each)\n"
     ]
    }
   ],
   "source": [
    "%timeit np.random.uniform(-90.000, 90.000, size=1500)"
   ]
  },
  {
   "cell_type": "code",
   "execution_count": 21,
   "id": "4e934479",
   "metadata": {},
   "outputs": [
    {
     "name": "stdout",
     "output_type": "stream",
     "text": [
      "2.15 ms ± 84.4 µs per loop (mean ± std. dev. of 7 runs, 1000 loops each)\n"
     ]
    }
   ],
   "source": [
    "def latitudes(size):\n",
    "    latitudes = []\n",
    "    x = 0\n",
    "    while x < (size):\n",
    "        random_lat = random.randint(-90, 90) + random.random()\n",
    "        latitudes.append(random_lat)\n",
    "        x += 1\n",
    "    return latitudes\n",
    "# Call the function with 1500.\n",
    "%timeit latitudes(1500)"
   ]
  },
  {
   "cell_type": "code",
   "execution_count": null,
   "id": "a782173c",
   "metadata": {},
   "outputs": [],
   "source": []
  }
 ],
 "metadata": {
  "kernelspec": {
   "display_name": "PythonData",
   "language": "python",
   "name": "pythondata"
  },
  "language_info": {
   "codemirror_mode": {
    "name": "ipython",
    "version": 3
   },
   "file_extension": ".py",
   "mimetype": "text/x-python",
   "name": "python",
   "nbconvert_exporter": "python",
   "pygments_lexer": "ipython3",
   "version": "3.7.6"
  }
 },
 "nbformat": 4,
 "nbformat_minor": 5
}
